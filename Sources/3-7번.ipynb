{
 "cells": [
  {
   "cell_type": "code",
   "execution_count": 2,
   "id": "d4d5c7c4",
   "metadata": {},
   "outputs": [],
   "source": [
    "import cv2 as cv\n",
    "import numpy as np\n",
    "\n",
    "img=cv.imread('soccer.jpg')\n",
    "img=cv.resize(img,dsize=(0,0),fx=0.4,fy=0.4) # 사진 크기 재설정\n",
    "gray=cv.cvtColor(img,cv.COLOR_BGR2GRAY) # 사진 색 회색으로 변경\n",
    "cv.putText(gray,'soccer',(10,20),cv.FONT_HERSHEY_SIMPLEX,0.7,(255,255,255),2)\n",
    "\n",
    "gaussian=np.hstack((cv.GaussianBlur(gray,(5,5),0.0),cv.GaussianBlur(gray,(9,9),0.0),cv.GaussianBlur(gray,(15,15),0.0))) #가우디안 스무딩\n",
    "median = np.hstack((cv.medianBlur(gray, 5), cv.medianBlur(gray, 9), cv.medianBlur(gray, 15))) #메디안 스무딩\n",
    "cv.imshow('Gaussian',gaussian)\n",
    "cv.imshow('Median',median)\n",
    "\n",
    "cv.waitKey() #키 입력대기\n",
    "cv.destroyAllWindows()# 모든 창 동시에 종료"
   ]
  },
  {
   "cell_type": "markdown",
   "id": "085cc16e",
   "metadata": {},
   "source": [
    "가우시안 스무딩: 가우시안 분포 함수를 근사하여 생성한 필터 마스크를 사용하는 필터링 기법이다. 박스내에 픽셀값을 가우시안 분포의 가중치로 평균을 내어 현재 픽셀값을 업데이트 해주는 방법이다. 이 가중치는 중심 픽셀에서 멀어질수록 급격하게 줄어든다.  이\n",
    "\n",
    "메디안 스무딩: 현재 픽셀값을 박스내의 픽셀 값들의 중간값으로 대체한다. 과정은 박스내 픽셀값들을 크기순으로 나열하여 중간값을 고르고 이것을 현재 픽셀값으로 주는 것이다.\n",
    "\n",
    "두 스무딩의 효과는 가우시안은 이미지의 고대비 가장자리에 있는 색상 언저리인 색수차를 줄이는데 효과적이고, 메디안은 무작위 노이즈를 제거하는데 효과적이다."
   ]
  },
  {
   "cell_type": "code",
   "execution_count": null,
   "id": "d2ebfc29",
   "metadata": {},
   "outputs": [],
   "source": []
  }
 ],
 "metadata": {
  "kernelspec": {
   "display_name": "cv",
   "language": "python",
   "name": "cv"
  },
  "language_info": {
   "codemirror_mode": {
    "name": "ipython",
    "version": 3
   },
   "file_extension": ".py",
   "mimetype": "text/x-python",
   "name": "python",
   "nbconvert_exporter": "python",
   "pygments_lexer": "ipython3",
   "version": "3.9.13"
  }
 },
 "nbformat": 4,
 "nbformat_minor": 5
}
