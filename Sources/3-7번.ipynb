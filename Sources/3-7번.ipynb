{
 "cells": [
  {
   "cell_type": "code",
   "execution_count": 2,
   "id": "86c83bb1",
   "metadata": {},
   "outputs": [
    {
     "ename": "error",
     "evalue": "OpenCV(4.7.0) :-1: error: (-5:Bad argument) in function 'GaussianBlur'\n> Overload resolution failed:\n>  - GaussianBlur() missing required argument 'sigmaX' (pos 3)\n>  - GaussianBlur() missing required argument 'sigmaX' (pos 3)\n",
     "output_type": "error",
     "traceback": [
      "\u001b[1;31m---------------------------------------------------------------------------\u001b[0m",
      "\u001b[1;31merror\u001b[0m                                     Traceback (most recent call last)",
      "Input \u001b[1;32mIn [2]\u001b[0m, in \u001b[0;36m<cell line: 9>\u001b[1;34m()\u001b[0m\n\u001b[0;32m      6\u001b[0m gray\u001b[38;5;241m=\u001b[39mcv\u001b[38;5;241m.\u001b[39mcvtColor(img,cv\u001b[38;5;241m.\u001b[39mCOLOR_BGR2GRAY)\n\u001b[0;32m      7\u001b[0m cv\u001b[38;5;241m.\u001b[39mputText(gray,\u001b[38;5;124m'\u001b[39m\u001b[38;5;124msoccer\u001b[39m\u001b[38;5;124m'\u001b[39m,(\u001b[38;5;241m10\u001b[39m,\u001b[38;5;241m20\u001b[39m),cv\u001b[38;5;241m.\u001b[39mFONT_HERSHEY_SIMPLEX,\u001b[38;5;241m0.7\u001b[39m,(\u001b[38;5;241m255\u001b[39m,\u001b[38;5;241m255\u001b[39m,\u001b[38;5;241m255\u001b[39m),\u001b[38;5;241m2\u001b[39m)\n\u001b[1;32m----> 9\u001b[0m gaussian\u001b[38;5;241m=\u001b[39mnp\u001b[38;5;241m.\u001b[39mhstack((\u001b[43mcv\u001b[49m\u001b[38;5;241;43m.\u001b[39;49m\u001b[43mGaussianBlur\u001b[49m\u001b[43m(\u001b[49m\u001b[43mgray\u001b[49m\u001b[43m,\u001b[49m\u001b[38;5;241;43m5\u001b[39;49m\u001b[43m)\u001b[49m,cv\u001b[38;5;241m.\u001b[39mGaussianBlur(gray,\u001b[38;5;241m9\u001b[39m),cv\u001b[38;5;241m.\u001b[39mGaussianBlur(gray,\u001b[38;5;241m15\u001b[39m)))\n\u001b[0;32m     10\u001b[0m median \u001b[38;5;241m=\u001b[39m np\u001b[38;5;241m.\u001b[39mhstack((cv\u001b[38;5;241m.\u001b[39mmedianBlur(gray, \u001b[38;5;241m5\u001b[39m), cv\u001b[38;5;241m.\u001b[39mmedianBlur(gray, \u001b[38;5;241m9\u001b[39m), cv\u001b[38;5;241m.\u001b[39mmedianBlur(gray, \u001b[38;5;241m15\u001b[39m)))\n\u001b[0;32m     11\u001b[0m cv\u001b[38;5;241m.\u001b[39mimshow(\u001b[38;5;124m'\u001b[39m\u001b[38;5;124mGaussian\u001b[39m\u001b[38;5;124m'\u001b[39m,gaussian)\n",
      "\u001b[1;31merror\u001b[0m: OpenCV(4.7.0) :-1: error: (-5:Bad argument) in function 'GaussianBlur'\n> Overload resolution failed:\n>  - GaussianBlur() missing required argument 'sigmaX' (pos 3)\n>  - GaussianBlur() missing required argument 'sigmaX' (pos 3)\n"
     ]
    }
   ],
   "source": [
    "import cv2 as cv\n",
    "import numpy as np\n",
    "\n",
    "img=cv.imread('soccer.jpg')\n",
    "img=cv.resize(img,dsize=(0,0),fx=0.4,fy=0.4) # 사진 크기 재설정\n",
    "gray=cv.cvtColor(img,cv.COLOR_BGR2GRAY) # 사진 색 회색으로 변경\n",
    "cv.putText(gray,'soccer',(10,20),cv.FONT_HERSHEY_SIMPLEX,0.7,(255,255,255),2)\n",
    "\n",
    "gaussian=np.hstack((cv.GaussianBlur(gray,(5,5),0.0),cv.GaussianBlur(gray,(9,9),0.0),cv.GaussianBlur(gray,(15,15),0.0))) #가우디안 스무딩\n",
    "median = np.hstack((cv.medianBlur(gray, 5), cv.medianBlur(gray, 9), cv.medianBlur(gray, 15))) #메디안 스무딩\n",
    "cv.imshow('Gaussian',gaussian)\n",
    "cv.imshow('Median',median)\n",
    "\n",
    "cv.waitKey() #키 입력대기\n",
    "cv.destroyAllWindows()# 모든 창 동시에 종료"
   ]
  }
 ],
 "metadata": {
  "kernelspec": {
   "display_name": "Python 3 (ipykernel)",
   "language": "python",
   "name": "python3"
  },
  "language_info": {
   "codemirror_mode": {
    "name": "ipython",
    "version": 3
   },
   "file_extension": ".py",
   "mimetype": "text/x-python",
   "name": "python",
   "nbconvert_exporter": "python",
   "pygments_lexer": "ipython3",
   "version": "3.10.6"
  }
 },
 "nbformat": 4,
 "nbformat_minor": 5
}
