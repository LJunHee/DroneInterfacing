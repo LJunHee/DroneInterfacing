{
 "cells": [
  {
   "cell_type": "code",
   "execution_count": 28,
   "id": "b29d5de9",
   "metadata": {},
   "outputs": [
    {
     "name": "stdout",
     "output_type": "stream",
     "text": [
      "OpenCV time: 0.0\n",
      "myEqualizeHist time: 0.13765931129455566\n"
     ]
    }
   ],
   "source": [
    "import cv2 as cv\n",
    "import numpy as np\n",
    "import time\n",
    "\n",
    "import numpy as np\n",
    "\n",
    "def myEqualizeHist(img):\n",
    "\n",
    "    # 입력 이미지의 채널 수 확인\n",
    "    if len(img.shape) == 2:\n",
    "        # 흑백 이미지인 경우\n",
    "        channels = [0]\n",
    "    else:\n",
    "        # 컬러 이미지인 경우\n",
    "        channels = [0, 1, 2]\n",
    "\n",
    "    # 히스토그램 계산\n",
    "    hist, bins = np.histogram(img.flatten(), 256, [0, 256])\n",
    "\n",
    "    # 누적 분포 함수 계산\n",
    "    cdf = hist.cumsum()\n",
    "    cdf_normalized = cdf * hist.max() / cdf.max()\n",
    "\n",
    "    # 누적 분포 함수를 이용한 이미지 변환\n",
    "    img_eq = np.interp(img.flatten(), bins[:-1], cdf_normalized).reshape(img.shape)\n",
    "\n",
    "img = cv.imread('girl_laughing.png') \n",
    "\n",
    "start=time.time()\n",
    "cv.cvtColor(img,cv.COLOR_BGR2GRAY)\n",
    "print('OpenCV time:',time.time()-start)\n",
    "\n",
    "start=time.time()\n",
    "myEqualizeHist(img)\n",
    "print('myEqualizeHist time:',time.time()-start)"
   ]
  },
  {
   "cell_type": "markdown",
   "id": "5f0e5d3f",
   "metadata": {},
   "source": [
    "opencv가 더 빠르다."
   ]
  }
 ],
 "metadata": {
  "kernelspec": {
   "display_name": "Python 3 (ipykernel)",
   "language": "python",
   "name": "python3"
  },
  "language_info": {
   "codemirror_mode": {
    "name": "ipython",
    "version": 3
   },
   "file_extension": ".py",
   "mimetype": "text/x-python",
   "name": "python",
   "nbconvert_exporter": "python",
   "pygments_lexer": "ipython3",
   "version": "3.9.12"
  }
 },
 "nbformat": 4,
 "nbformat_minor": 5
}
