{
 "cells": [
  {
   "cell_type": "code",
   "execution_count": 2,
   "id": "a10c5640",
   "metadata": {},
   "outputs": [],
   "source": [
    "import cv2 as cv\n",
    "\n",
    "refPt = []\n",
    "cropping = False\n",
    "\n",
    "def click_and_crop(event, x, y, flags, param):\n",
    "    global refPt, cropping\n",
    "\n",
    "    if event == cv.EVENT_LBUTTONDOWN:\n",
    "        refPt = [(x, y)]\n",
    "        cropping = True\n",
    "\n",
    "    elif event == cv.EVENT_LBUTTONUP:\n",
    "        refPt.append((x, y))\n",
    "        cropping = False\n",
    "\n",
    "        cv.rectangle(img, refPt[0], refPt[1], (255, 0, 0), 3)\n",
    "        cv.imshow(\"image\", img)\n",
    "\n",
    "        patch = img[refPt[0][1]:refPt[1][1], refPt[0][0]:refPt[1][0], :]\n",
    "\n",
    "        patch1 = cv.resize(patch, dsize=(0,0), fx=5, fy=5, interpolation=cv.INTER_NEAREST) #최근접 이웃\n",
    "        patch2 = cv.resize(patch, dsize=(0,0), fx=5, fy=5, interpolation=cv.INTER_LINEAR) #양선형\n",
    "        patch3 = cv.resize(patch, dsize=(0,0), fx=5, fy=5, interpolation=cv.INTER_CUBIC) #양3차\n",
    "\n",
    "        cv.imshow('Resize nearest',patch1) \n",
    "        cv.imshow('Resize bilinear',patch2) \n",
    "        cv.imshow('Resize bicubic',patch3) \n",
    "\n",
    "img = cv.imread('rose.png')\n",
    "cv.namedWindow(\"image\")\n",
    "cv.setMouseCallback(\"image\", click_and_crop)\n",
    "\"\"\n",
    "while True:\n",
    "    cv.imshow(\"image\", img)\n",
    "    key = cv.waitKey(1) & 0xFF\n",
    "\n",
    "    if key == ord(\"r\"):\n",
    "        img = cv.imread('rose.png')\n",
    "\n",
    "    elif key == ord(\"q\"):\n",
    "        break\n",
    "\n",
    "cv.destroyAllWindows()\n"
   ]
  },
  {
   "cell_type": "markdown",
   "id": "cadd776a",
   "metadata": {},
   "source": [
    "최근접 이웃 방법은 계단 모양의 에일리어싱 현상이 심하다. \n",
    "양선형과 양3차 보간은 최근접 이웃에 비해 화질이 월등히 좋다. \n",
    "양선형과 양3차의 화질은 육안으로 우열을 구분하기 힘듬."
   ]
  },
  {
   "cell_type": "code",
   "execution_count": null,
   "id": "a2f44a61",
   "metadata": {},
   "outputs": [],
   "source": []
  }
 ],
 "metadata": {
  "kernelspec": {
   "display_name": "Python 3 (ipykernel)",
   "language": "python",
   "name": "python3"
  },
  "language_info": {
   "codemirror_mode": {
    "name": "ipython",
    "version": 3
   },
   "file_extension": ".py",
   "mimetype": "text/x-python",
   "name": "python",
   "nbconvert_exporter": "python",
   "pygments_lexer": "ipython3",
   "version": "3.9.12"
  }
 },
 "nbformat": 4,
 "nbformat_minor": 5
}
