{
 "cells": [
  {
   "cell_type": "code",
   "execution_count": 1,
   "id": "288f4a41",
   "metadata": {},
   "outputs": [
    {
     "data": {
      "text/plain": [
       "0"
      ]
     },
     "execution_count": 1,
     "metadata": {},
     "output_type": "execute_result"
    }
   ],
   "source": [
    "from PyQt5.QtWidgets import *\n",
    "import sys\n",
    "import winsound\n",
    "\n",
    "# SND_ALIAS 상수 가져오기\n",
    "SND_ALIAS = 0x00010000\n",
    "\n",
    "class BeepSound(QMainWindow):\n",
    "    def __init__(self) :\n",
    "        super().__init__()\n",
    "        self.setWindowTitle('연습문제 6-1번') \t\t# 윈도우 이름과 위치 지정\n",
    "        self.setGeometry(200,200,500,100)\n",
    "\n",
    "        shortBeepButton=QPushButton('짧게 삑',self)\t# 버튼 생성\n",
    "        longBeepButton=QPushButton('길게 삑',self)\n",
    "        customSoundButton=QPushButton('PlaySound 함수 버튼',self)\n",
    "        \n",
    "        quitButton=QPushButton('나가기',self)\n",
    "        self.label=QLabel('여러가지 소리 내기',self)\n",
    "        \n",
    "        shortBeepButton.setGeometry(10,10,100,30)\t# 버튼 위치와 크기 지정\n",
    "        longBeepButton.setGeometry(110,10,100,30)\n",
    "        customSoundButton.setGeometry(210,10,130,30)\n",
    "        quitButton.setGeometry(340,10,100,30)\n",
    "        self.label.setGeometry(10,40,500,70)\n",
    "        \n",
    "        shortBeepButton.clicked.connect(self.shortBeepFunction) # 콜백 함수 지정\n",
    "        longBeepButton.clicked.connect(self.longBeepFunction)\n",
    "        customSoundButton.clicked.connect(self.customSoundFunction)\n",
    "        quitButton.clicked.connect(self.quitFunction)\n",
    "       \n",
    "    def shortBeepFunction(self):\n",
    "        self.label.setText('주파수 1000으로 0.5초 동안 삑 소리를 냅니다.')   \n",
    "        winsound.Beep(1000,500)\n",
    "        \n",
    "    def longBeepFunction(self):\n",
    "        self.label.setText('주파수 1000으로 3초 동안 삑 소리를 냅니다.')        \n",
    "        winsound.Beep(1000,3000)\n",
    "    \n",
    "    def customSoundFunction(self):\n",
    "        self.label.setText('PlaySound 함수를 이용하여 5초간 SystemQuestion 소리를 냅니다')\n",
    "        winsound.PlaySound('SystemQuestion',SND_ALIAS)\n",
    "                \n",
    "    def quitFunction(self):\n",
    "        self.close()\n",
    "                \n",
    "app=QApplication(sys.argv) \n",
    "win=BeepSound() \n",
    "win.show()\n",
    "app.exec_()"
   ]
  },
  {
   "cell_type": "code",
   "execution_count": null,
   "id": "2de6c0c0",
   "metadata": {},
   "outputs": [],
   "source": []
  }
 ],
 "metadata": {
  "kernelspec": {
   "display_name": "Python 3 (ipykernel)",
   "language": "python",
   "name": "python3"
  },
  "language_info": {
   "codemirror_mode": {
    "name": "ipython",
    "version": 3
   },
   "file_extension": ".py",
   "mimetype": "text/x-python",
   "name": "python",
   "nbconvert_exporter": "python",
   "pygments_lexer": "ipython3",
   "version": "3.10.6"
  }
 },
 "nbformat": 4,
 "nbformat_minor": 5
}
