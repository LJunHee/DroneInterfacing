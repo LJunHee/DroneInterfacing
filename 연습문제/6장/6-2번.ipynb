{
 "cells": [
  {
   "cell_type": "code",
   "execution_count": 1,
   "id": "917cc3b8",
   "metadata": {},
   "outputs": [
    {
     "ename": "AttributeError",
     "evalue": "'Video' object has no attribute 'cap'",
     "output_type": "error",
     "traceback": [
      "\u001b[1;31m---------------------------------------------------------------------------\u001b[0m",
      "\u001b[1;31mAttributeError\u001b[0m                            Traceback (most recent call last)",
      "Input \u001b[1;32mIn [1]\u001b[0m, in \u001b[0;36mVideo.quitFunction\u001b[1;34m(self)\u001b[0m\n\u001b[0;32m     75\u001b[0m \u001b[38;5;28;01mdef\u001b[39;00m \u001b[38;5;21mquitFunction\u001b[39m(\u001b[38;5;28mself\u001b[39m):\n\u001b[1;32m---> 76\u001b[0m     \u001b[38;5;28;43mself\u001b[39;49m\u001b[38;5;241;43m.\u001b[39;49m\u001b[43mcap\u001b[49m\u001b[38;5;241m.\u001b[39mrelease()\t\t\t\t\u001b[38;5;66;03m# 카메라와 연결을 끊음\u001b[39;00m\n\u001b[0;32m     77\u001b[0m     cv\u001b[38;5;241m.\u001b[39mdestroyAllWindows()\n\u001b[0;32m     78\u001b[0m     \u001b[38;5;28mself\u001b[39m\u001b[38;5;241m.\u001b[39mclose()\n",
      "\u001b[1;31mAttributeError\u001b[0m: 'Video' object has no attribute 'cap'"
     ]
    },
    {
     "ename": "AttributeError",
     "evalue": "'Video' object has no attribute 'cap'",
     "output_type": "error",
     "traceback": [
      "\u001b[1;31m---------------------------------------------------------------------------\u001b[0m",
      "\u001b[1;31mAttributeError\u001b[0m                            Traceback (most recent call last)",
      "Input \u001b[1;32mIn [1]\u001b[0m, in \u001b[0;36mVideo.quitFunction\u001b[1;34m(self)\u001b[0m\n\u001b[0;32m     75\u001b[0m \u001b[38;5;28;01mdef\u001b[39;00m \u001b[38;5;21mquitFunction\u001b[39m(\u001b[38;5;28mself\u001b[39m):\n\u001b[1;32m---> 76\u001b[0m     \u001b[38;5;28;43mself\u001b[39;49m\u001b[38;5;241;43m.\u001b[39;49m\u001b[43mcap\u001b[49m\u001b[38;5;241m.\u001b[39mrelease()\t\t\t\t\u001b[38;5;66;03m# 카메라와 연결을 끊음\u001b[39;00m\n\u001b[0;32m     77\u001b[0m     cv\u001b[38;5;241m.\u001b[39mdestroyAllWindows()\n\u001b[0;32m     78\u001b[0m     \u001b[38;5;28mself\u001b[39m\u001b[38;5;241m.\u001b[39mclose()\n",
      "\u001b[1;31mAttributeError\u001b[0m: 'Video' object has no attribute 'cap'"
     ]
    },
    {
     "data": {
      "text/plain": [
       "0"
      ]
     },
     "execution_count": 1,
     "metadata": {},
     "output_type": "execute_result"
    }
   ],
   "source": [
    "from PyQt5.QtWidgets import *\n",
    "import sys\n",
    "import cv2 as cv\n",
    "import numpy as np\n",
    "\n",
    "class Video(QMainWindow):\n",
    "    def __init__(self) :\n",
    "        super().__init__()\n",
    "        self.setWindowTitle('비디오에서 프레임 수집')\t# 윈도우 이름과 위치 지정\n",
    "        self.setGeometry(200,200,550,100)\n",
    "\n",
    "        videoButton=QPushButton('비디오 켜기',self)\t# 버튼 생성\n",
    "        captureButton=QPushButton('프레임 잡기',self)\n",
    "        saveButton=QPushButton('프레임 저장',self)\n",
    "        multiCaptureButton=QPushButton('여러 프레임 잡기',self)\n",
    "        quitButton=QPushButton('나가기',self)\n",
    "        \n",
    "        videoButton.setGeometry(10,10,100,30)\t\t# 버튼 위치와 크기 지정\n",
    "        captureButton.setGeometry(110,10,100,30)\n",
    "        saveButton.setGeometry(210,10,100,30)\n",
    "        multiCaptureButton.setGeometry(310,10,100,30)\n",
    "        quitButton.setGeometry(410,10,100,30)\n",
    "        \n",
    "        videoButton.clicked.connect(self.videoFunction) # 콜백 함수 지정\n",
    "        captureButton.clicked.connect(self.captureFunction)         \n",
    "        saveButton.clicked.connect(self.saveFunction)\n",
    "        multiCaptureButton.clicked.connect(self.multiCaptureFunction)\n",
    "        quitButton.clicked.connect(self.quitFunction)\n",
    "       \n",
    "    def videoFunction(self):\n",
    "        self.cap=cv.VideoCapture(0,cv.CAP_DSHOW)\t# 카메라와 연결 시도\n",
    "        if not self.cap.isOpened(): self.close()\n",
    "            \n",
    "        while True:\n",
    "            ret,self.frame=self.cap.read() \n",
    "            if not ret: break            \n",
    "            cv.imshow('video display',self.frame)\n",
    "            cv.waitKey(1)\n",
    "        \n",
    "    def captureFunction(self):\n",
    "        self.capturedFrame=self.frame\n",
    "        cv.imshow('Captured Frame',self.capturedFrame)\n",
    "        \n",
    "    def saveFunction(self):\t\t\t\t# 파일 저장\n",
    "        fname=QFileDialog.getSaveFileName(self,'파일 저장','./')\n",
    "        cv.imwrite(fname[0],self.capturedFrame)\n",
    "        \n",
    "    def multiCaptureFunction(self):\n",
    "        self.capturedFrames = []     # 캡처된 프레임들을 저장하는 리스트 초기화\n",
    "        \n",
    "        while True:\n",
    "            ret,frame = self.cap.read() \n",
    "            if not ret: break            \n",
    "            cv.imshow('video display',frame)\n",
    "            cv.waitKey(1)\n",
    "            \n",
    "            # c키를 누르면 현재 프레임을 캡처하고 리스트 추가\n",
    "            key = cv.waitKey(25)\n",
    "            if key == ord('c'):\n",
    "                self.capturedFrames.append(frame)\n",
    "                print('캡쳐되었습니다.')\n",
    "            elif key == ord('q'):\n",
    "                break\n",
    "                \n",
    "        # 모든 프레임을 이어붙임\n",
    "        result = np.concatenate(self.capturedFrames, axis=1)\n",
    "        cv.imshow('Captured Frames',result)\n",
    "        self.capturedFrame = result    # 이어붙인 결과를 최종 프레임으로 저장\n",
    "        \n",
    "        \n",
    "    def saveFunction(self):\t\t\t\t# 파일 저장\n",
    "        fname=QFileDialog.getSaveFileName(self,'파일 저장','./')\n",
    "        cv.imwrite(fname[0],self.capturedFrame)\n",
    "        \n",
    "    def quitFunction(self):\n",
    "        self.cap.release()\t\t\t\t# 카메라와 연결을 끊음\n",
    "        cv.destroyAllWindows()\n",
    "        self.close()\n",
    "                \n",
    "app=QApplication(sys.argv) \n",
    "win=Video() \n",
    "win.show()\n",
    "app.exec_()"
   ]
  }
 ],
 "metadata": {
  "kernelspec": {
   "display_name": "Python 3.10.6 64-bit",
   "language": "python",
   "name": "python3"
  },
  "language_info": {
   "codemirror_mode": {
    "name": "ipython",
    "version": 3
   },
   "file_extension": ".py",
   "mimetype": "text/x-python",
   "name": "python",
   "nbconvert_exporter": "python",
   "pygments_lexer": "ipython3",
   "version": "3.10.6"
  },
  "vscode": {
   "interpreter": {
    "hash": "369f2c481f4da34e4445cda3fffd2e751bd1c4d706f27375911949ba6bb62e1c"
   }
  }
 },
 "nbformat": 4,
 "nbformat_minor": 5
}
