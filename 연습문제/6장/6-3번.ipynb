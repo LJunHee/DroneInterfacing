{
 "cells": [
  {
   "cell_type": "code",
   "execution_count": 1,
   "id": "27ff5ab9",
   "metadata": {},
   "outputs": [
    {
     "ename": "error",
     "evalue": "OpenCV(4.7.0) D:\\a\\opencv-python\\opencv-python\\opencv\\modules\\highgui\\src\\window_w32.cpp:2558: error: (-27:Null pointer) NULL window: 'Painting' in function 'cvSetMouseCallback'\n",
     "output_type": "error",
     "traceback": [
      "\u001b[1;31m---------------------------------------------------------------------------\u001b[0m",
      "\u001b[1;31merror\u001b[0m                                     Traceback (most recent call last)",
      "Input \u001b[1;32mIn [1]\u001b[0m, in \u001b[0;36mOrim.paintFunction\u001b[1;34m(self)\u001b[0m\n\u001b[0;32m     50\u001b[0m \u001b[38;5;28;01mdef\u001b[39;00m \u001b[38;5;21mpaintFunction\u001b[39m(\u001b[38;5;28mself\u001b[39m):\n\u001b[1;32m---> 51\u001b[0m     \u001b[43mcv\u001b[49m\u001b[38;5;241;43m.\u001b[39;49m\u001b[43msetMouseCallback\u001b[49m\u001b[43m(\u001b[49m\u001b[38;5;124;43m'\u001b[39;49m\u001b[38;5;124;43mPainting\u001b[39;49m\u001b[38;5;124;43m'\u001b[39;49m\u001b[43m,\u001b[49m\u001b[38;5;28;43mself\u001b[39;49m\u001b[38;5;241;43m.\u001b[39;49m\u001b[43mpainting\u001b[49m\u001b[43m)\u001b[49m\n",
      "\u001b[1;31merror\u001b[0m: OpenCV(4.7.0) D:\\a\\opencv-python\\opencv-python\\opencv\\modules\\highgui\\src\\window_w32.cpp:2558: error: (-27:Null pointer) NULL window: 'Painting' in function 'cvSetMouseCallback'\n"
     ]
    },
    {
     "data": {
      "text/plain": [
       "0"
      ]
     },
     "execution_count": 1,
     "metadata": {},
     "output_type": "execute_result"
    }
   ],
   "source": [
    "import cv2 as cv \n",
    "import numpy as np\n",
    "import sys\n",
    "from PyQt5.QtWidgets import *\n",
    "      \n",
    "class Orim(QMainWindow):\n",
    "    def __init__(self) :\n",
    "        super().__init__()\n",
    "        self.setWindowTitle('오림')\n",
    "        self.setGeometry(200,200,700,200)\n",
    "       \n",
    "        fileButton=QPushButton('파일',self)\n",
    "        paintButton=QPushButton('페인팅',self)\n",
    "        cutButton=QPushButton('오림',self)\n",
    "        incButton=QPushButton('+',self)\n",
    "        decButton=QPushButton('-',self)\n",
    "        saveButton=QPushButton('저장',self)\n",
    "        quitButton=QPushButton('나가기',self)\n",
    "        \n",
    "        fileButton.setGeometry(10,10,100,30)\n",
    "        paintButton.setGeometry(110,10,100,30)\n",
    "        cutButton.setGeometry(210,10,100,30)\n",
    "        incButton.setGeometry(310,10,50,30)\n",
    "        decButton.setGeometry(360,10,50,30)\n",
    "        saveButton.setGeometry(410,10,100,30)\n",
    "        quitButton.setGeometry(510,10,100,30)\n",
    "        \n",
    "        fileButton.clicked.connect(self.fileOpenFunction)\n",
    "        paintButton.clicked.connect(self.paintFunction) \n",
    "        cutButton.clicked.connect(self.cutFunction)    \n",
    "        incButton.clicked.connect(self.incFunction)              \n",
    "        decButton.clicked.connect(self.decFunction) \n",
    "        saveButton.clicked.connect(self.saveFunction)                         \n",
    "        quitButton.clicked.connect(self.quitFunction)\n",
    "\n",
    "        self.BrushSiz=5\t\t\t# 페인팅 붓의 크기\n",
    "        self.LColor,self.RColor=(255,0,0),(0,0,255) # 파란색 물체, 빨간색 배경\n",
    "        \n",
    "    def fileOpenFunction(self):\n",
    "        fname=QFileDialog.getOpenFileName(self,'Open file','./')\n",
    "        self.img=cv.imread(fname[0])\n",
    "        if self.img is None: sys.exit('파일을 찾을 수 없습니다.')  \n",
    "        \n",
    "        self.img_show=np.copy(self.img)\t# 표시용 영상 \n",
    "        cv.imshow('Painting',self.img_show)\n",
    "        \n",
    "        self.mask=np.zeros((self.img.shape[0],self.img.shape[1]),np.uint8) \n",
    "        self.mask[:,:]=cv.GC_PR_BGD\t# 모든 화소를 배경일 것 같음으로 초기화\n",
    "            \n",
    "    def paintFunction(self):\n",
    "        cv.setMouseCallback('Painting',self.painting) \n",
    "        \n",
    "    def painting(self,event,x,y,flags,param):\n",
    "        if event==cv.EVENT_LBUTTONDOWN:   \n",
    "            cv.circle(self.img_show,(x,y),self.BrushSiz,self.LColor,-1) # 왼쪽 버튼을 클릭하면 파란색\n",
    "            cv.circle(self.mask,(x,y),self.BrushSiz,cv.GC_FGD,-1)\n",
    "        elif event==cv.EVENT_RBUTTONDOWN: \n",
    "            cv.circle(self.img_show,(x,y),self.BrushSiz,self.RColor,-1) # 오른쪽 버튼을 클릭하면 빨간색\n",
    "            cv.circle(self.mask,(x,y),self.BrushSiz,cv.GC_BGD,-1)\n",
    "        elif event==cv.EVENT_MOUSEMOVE and flags==cv.EVENT_FLAG_LBUTTON:\n",
    "            cv.circle(self.img_show,(x,y),self.BrushSiz,self.LColor,-1) # 왼쪽 버튼을 클릭하고 이동하면 파란색\n",
    "            cv.circle(self.mask,(x,y),self.BrushSiz,cv.GC_FGD,-1)\n",
    "        elif event==cv.EVENT_MOUSEMOVE and flags==cv.EVENT_FLAG_RBUTTON:\n",
    "            cv.circle(self.img_show,(x,y),self.BrushSiz,self.RColor,-1) # 오른쪽 버튼을 클릭하고 이동하면 빨간색 \n",
    "            cv.circle(self.mask,(x,y),self.BrushSiz,cv.GC_BGD,-1)\n",
    "    \n",
    "        cv.imshow('Painting',self.img_show)        \n",
    "        \n",
    "    def cutFunction(self):\n",
    "        background=np.zeros((1,65),np.float64) \n",
    "        foreground=np.zeros((1,65),np.float64) \n",
    "        cv.grabCut(self.img,self.mask,None,background,foreground,5,cv.GC_INIT_WITH_MASK)\n",
    "        mask2=np.where((self.mask==2)|(self.mask==0),0,1).astype('uint8')\n",
    "        self.grabImg=self.img*mask2[:,:,np.newaxis]\n",
    "        cv.imshow('Scissoring',self.grabImg) \n",
    "        \n",
    "        \n",
    "    def incFunction(self):\n",
    "        self.BrushSiz=min(20,self.BrushSiz+1) \n",
    "        \n",
    "    def decFunction(self):\n",
    "        self.BrushSiz=max(1,self.BrushSiz-1) \n",
    "        \n",
    "    def saveFunction(self):\n",
    "        fname=QFileDialog.getSaveFileName(self,'파일 저장','./')\n",
    "        cv.imwrite(fname[0],self.grabImg)\n",
    "                \n",
    "    def quitFunction(self):\n",
    "        cv.destroyAllWindows()        \n",
    "        self.close()\n",
    "                \n",
    "app=QApplication(sys.argv) \n",
    "win=Orim() \n",
    "win.show()\n",
    "app.exec_()"
   ]
  },
  {
   "cell_type": "markdown",
   "id": "47325c6b",
   "metadata": {},
   "source": [
    "오류 메시지:"
   ]
  }
 ],
 "metadata": {
  "kernelspec": {
   "display_name": "Python 3 (ipykernel)",
   "language": "python",
   "name": "python3"
  },
  "language_info": {
   "codemirror_mode": {
    "name": "ipython",
    "version": 3
   },
   "file_extension": ".py",
   "mimetype": "text/x-python",
   "name": "python",
   "nbconvert_exporter": "python",
   "pygments_lexer": "ipython3",
   "version": "3.10.6"
  }
 },
 "nbformat": 4,
 "nbformat_minor": 5
}
