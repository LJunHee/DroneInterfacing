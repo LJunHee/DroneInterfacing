{
 "cells": [
  {
   "cell_type": "code",
   "execution_count": 41,
   "id": "2378c96c",
   "metadata": {},
   "outputs": [
    {
     "data": {
      "image/png": "[encoded data removed]",
      "text/plain": [
       "<Figure size 2500x500 with 5 Axes>"
      ]
     },
     "metadata": {},
     "output_type": "display_data"
    },
    {
     "name": "stdout",
     "output_type": "stream",
     "text": [
      "1/1 [==============================] - 0s 34ms/step\n"
     ]
    }
   ],
   "source": [
    "import numpy as np\n",
    "import tensorflow as tf\n",
    "import cv2 as cv \n",
    "import matplotlib.pyplot as plt\n",
    "import winsound\n",
    "\n",
    "model=tf.keras.models.load_model('dmlp_trained.h5')\n",
    "\n",
    "def reset():\n",
    "    global img, text_size\n",
    "    \n",
    "    img=np.ones((200,520,3),dtype=np.uint8)*255\n",
    "    for i in range(5):\n",
    "        cv.rectangle(img,(10+i*100,50),(10+(i+1)*100,150),(0,0,255))\n",
    "    \n",
    "    # 텍스트를 표시할 위치 계산\n",
    "    text = 'e:erase s:show r:recognition q:quit'\n",
    "    text_size, _ = cv.getTextSize(text, cv.FONT_HERSHEY_SIMPLEX, 0.8, 1)\n",
    "    text_x = (img.shape[1] - text_size[0]) // 2\n",
    "    text_y = 30\n",
    "    cv.putText(img, text, (text_x, text_y), cv.FONT_HERSHEY_SIMPLEX, 0.8, (255,0,0), 1)\n",
    "\n",
    "def grab_numerals():\n",
    "    numerals=[]\n",
    "    for i in range(5):\n",
    "        roi=img[51:149,11+i*100:9+(i+1)*100,0]\n",
    "        roi=255-cv.resize(roi,(28,28),interpolation=cv.INTER_CUBIC)\n",
    "        numerals.append(roi)  \n",
    "    numerals=np.array(numerals)\n",
    "    return numerals\n",
    "\n",
    "def show():\n",
    "    numerals=grab_numerals()\n",
    "    plt.figure(figsize=(25,5))\n",
    "    for i in range(5):\n",
    "        plt.subplot(1,5,i+1)\n",
    "        plt.imshow(numerals[i],cmap='gray')\n",
    "        plt.xticks([]); plt.yticks([])\n",
    "    plt.show()\n",
    "    \n",
    "def recognition():\n",
    "    numerals=grab_numerals()\n",
    "    numerals=numerals.reshape(5,784)\n",
    "    numerals=numerals.astype(np.float32)/255.0\n",
    "    res=model.predict(numerals) # 신경망 모델로 예측\n",
    "    class_ids = np.argmax(res, axis=1)\n",
    "    \n",
    "    for i in range(5):\n",
    "        class_id = class_ids[i]\n",
    "        confidences = res[i]\n",
    "        top_2 = confidences.argsort()[-2:][::-1] # 확률 상위 2개 부류\n",
    "        top_2_str = f\"{class_id}({top_2[0]}, {top_2[1]})\" # 1순위, 2순위 부류 표시\n",
    "        \n",
    "        # 텍스트를 표시할 위치 계산\n",
    "        text_size, _ = cv.getTextSize(top_2_str, cv.FONT_HERSHEY_SIMPLEX, 1, 1)\n",
    "        text_x = (i * 100) + (170 - text_size[0]) // 2\n",
    "        text_y = 180\n",
    "        \n",
    "        cv.putText(img, top_2_str, (text_x, text_y), cv.FONT_HERSHEY_SIMPLEX, 0.7, (255, 0, 0), 1)\n",
    "    winsound.Beep(1000, 500)\n",
    "\n",
    "  \n",
    "        \n",
    "BrushSiz=4\n",
    "LColor=(0,0,0)\n",
    "\n",
    "def writing(event,x,y,flags,param):\n",
    "    if event==cv.EVENT_LBUTTONDOWN:\n",
    "        cv.circle(img,(x,y),BrushSiz,LColor,-1) \n",
    "    elif event==cv.EVENT_MOUSEMOVE and flags==cv.EVENT_FLAG_LBUTTON: \n",
    "        cv.circle(img,(x,y),BrushSiz,LColor,-1)\n",
    "\n",
    "reset()\n",
    "cv.namedWindow('Writing')\n",
    "cv.setMouseCallback('Writing',writing)\n",
    "\n",
    "while(True):\n",
    "    cv.imshow('Writing',img)\n",
    "    key=cv.waitKey(1)\n",
    "    if key==ord('e'):\n",
    "        reset()\n",
    "    elif key==ord('s'):\n",
    "        show()        \n",
    "    elif key==ord('r'):\n",
    "        recognition()\n",
    "    elif key==ord('q'):\n",
    "        break\n",
    "    \n",
    "cv.destroyAllWindows()"
   ]
  },
  {
   "cell_type": "code",
   "execution_count": 27,
   "id": "e17064ed",
   "metadata": {},
   "outputs": [],
   "source": []
  },
  {
   "cell_type": "code",
   "execution_count": null,
   "id": "2c7916fa",
   "metadata": {},
   "outputs": [],
   "source": []
  }
 ],
 "metadata": {
  "kernelspec": {
   "display_name": "Python 3 (ipykernel)",
   "language": "python",
   "name": "python3"
  },
  "language_info": {
   "codemirror_mode": {
    "name": "ipython",
    "version": 3
   },
   "file_extension": ".py",
   "mimetype": "text/x-python",
   "name": "python",
   "nbconvert_exporter": "python",
   "pygments_lexer": "ipython3",
   "version": "3.10.6"
  }
 },
 "nbformat": 4,
 "nbformat_minor": 5
}
