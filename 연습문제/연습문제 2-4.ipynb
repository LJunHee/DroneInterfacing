{
 "cells": [
  {
   "cell_type": "code",
   "execution_count": 3,
   "id": "ec75e122",
   "metadata": {},
   "outputs": [
    {
     "name": "stdout",
     "output_type": "stream",
     "text": [
      "Requirement already satisfied: opencv-python in f:\\anaconda3\\lib\\site-packages (4.7.0.72)\n",
      "Requirement already satisfied: numpy>=1.19.3 in f:\\anaconda3\\lib\\site-packages (from opencv-python) (1.21.5)\n",
      "Note: you may need to restart the kernel to use updated packages.\n"
     ]
    }
   ],
   "source": [
    "pip install opencv-python"
   ]
  },
  {
   "cell_type": "code",
   "execution_count": null,
   "id": "c0608b05",
   "metadata": {},
   "outputs": [],
   "source": [
    "import cv2 as cv\n",
    "import sys\n",
    "\n",
    "img = cv.imread('soccer.jpg')\n",
    "\n",
    "if img is None:\n",
    "    sys.exit('파일을 찾을 수 없습니다.')\n",
    "\n",
    "gray = cv.cvtColor(img, cv.COLOR_BGR2GRAY) # BRG 컬러 영상을 명암 영상으로 변환\n",
    "gray_small = cv.resize(gray, dsize=(0,0), fx=0.5, fy=0.5) # 반으로 축소\n",
    "\n",
    "cv.imwrite('./soccer_gray.jpg', gray) #영상을 파일에 저장\n",
    "cv.imwrite('./soccer_gray_small.jpg', gray_small)\n",
    "cv.imwrite('./soccer_gray.png', gray)\n",
    "cv.imwrite('./soccer_gray_small.png', gray_small)\n",
    "    \n",
    "cv.imshow('Color Image', img)\n",
    "cv.imshow('Gray Image', gray)\n",
    "cv.imshow('Gray Image Small', gray_small)\n",
    "    \n",
    "cv.waitKey()\n",
    "cv.destroyAllWindows()   "
   ]
  },
  {
   "cell_type": "code",
   "execution_count": null,
   "id": "3e5e8a8d",
   "metadata": {},
   "outputs": [],
   "source": []
  }
 ],
 "metadata": {
  "kernelspec": {
   "display_name": "cv",
   "language": "python",
   "name": "cv"
  },
  "language_info": {
   "codemirror_mode": {
    "name": "ipython",
    "version": 3
   },
   "file_extension": ".py",
   "mimetype": "text/x-python",
   "name": "python",
   "nbconvert_exporter": "python",
   "pygments_lexer": "ipython3",
   "version": "3.9.13"
  }
 },
 "nbformat": 4,
 "nbformat_minor": 5
}
