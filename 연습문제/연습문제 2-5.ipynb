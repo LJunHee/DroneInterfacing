{
 "cells": [
  {
   "cell_type": "code",
   "execution_count": 1,
   "id": "14a35820",
   "metadata": {},
   "outputs": [
    {
     "name": "stdout",
     "output_type": "stream",
     "text": [
      "Requirement already satisfied: opencv-python in f:\\anaconda3\\lib\\site-packages (4.7.0.72)\n",
      "Requirement already satisfied: numpy>=1.19.3 in f:\\anaconda3\\lib\\site-packages (from opencv-python) (1.21.5)\n",
      "Note: you may need to restart the kernel to use updated packages.\n"
     ]
    }
   ],
   "source": [
    "pip install opencv-python"
   ]
  },
  {
   "cell_type": "code",
   "execution_count": 3,
   "id": "16952b30",
   "metadata": {},
   "outputs": [
    {
     "ename": "SystemExit",
     "evalue": "카메라 연결 실패.",
     "output_type": "error",
     "traceback": [
      "An exception has occurred, use %tb to see the full traceback.\n",
      "\u001b[1;31mSystemExit\u001b[0m\u001b[1;31m:\u001b[0m 카메라 연결 실패.\n"
     ]
    }
   ],
   "source": [
    "import cv2 as cv\n",
    "import sys\n",
    "\n",
    "cap = cv.VideoCapture(0, cv.CAP_DSHOW) # 카메라와 연결 시도\n",
    "\n",
    "if not cap.isOpened():\n",
    "    sys.exit('카메라 연결 실패.')\n",
    "\n",
    "while True:\n",
    "   ret, frame = cap.read() # 비디오를 구성하는 프레임 흭득\n",
    "   if not ret:\n",
    "        print('프레임 획득에 실패하여 루프를 나갑니다.')\n",
    "        break\n",
    "   cv.imshow('Video display',frame)\n",
    "   key=cv.waitKey(1) # 1밀리초 동안 키보드 입력 기다림\n",
    "   if key==ord('q'): # 'q' 키 입력시 루프를 빠져나감\n",
    "      break\n",
    "\n",
    "cap.release() #카메라 연결 끊음\n",
    "cv.destroyAllWindows()"
   ]
  },
  {
   "cell_type": "code",
   "execution_count": null,
   "id": "dfdad11c",
   "metadata": {},
   "outputs": [],
   "source": []
  }
 ],
 "metadata": {
  "kernelspec": {
   "display_name": "cv",
   "language": "python",
   "name": "cv"
  },
  "language_info": {
   "codemirror_mode": {
    "name": "ipython",
    "version": 3
   },
   "file_extension": ".py",
   "mimetype": "text/x-python",
   "name": "python",
   "nbconvert_exporter": "python",
   "pygments_lexer": "ipython3",
   "version": "3.9.13"
  }
 },
 "nbformat": 4,
 "nbformat_minor": 5
}
