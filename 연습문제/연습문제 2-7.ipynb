{
 "cells": [
  {
   "cell_type": "code",
   "execution_count": 1,
   "id": "66f2131e",
   "metadata": {},
   "outputs": [
    {
     "name": "stdout",
     "output_type": "stream",
     "text": [
      "Requirement already satisfied: opencv-python in f:\\anaconda3\\lib\\site-packages (4.7.0.72)\n",
      "Requirement already satisfied: numpy>=1.19.3 in f:\\anaconda3\\lib\\site-packages (from opencv-python) (1.21.5)\n",
      "Note: you may need to restart the kernel to use updated packages.\n"
     ]
    }
   ],
   "source": [
    "pip install opencv-python"
   ]
  },
  {
   "cell_type": "code",
   "execution_count": 3,
   "id": "cdcac7f1",
   "metadata": {},
   "outputs": [
    {
     "ename": "SystemExit",
     "evalue": "파일을 찾을 수 없습니다.",
     "output_type": "error",
     "traceback": [
      "An exception has occurred, use %tb to see the full traceback.\n",
      "\u001b[1;31mSystemExit\u001b[0m\u001b[1;31m:\u001b[0m 파일을 찾을 수 없습니다.\n"
     ]
    }
   ],
   "source": [
    "import cv2 as cv\n",
    "import sys\n",
    "\n",
    "img=cv.imread('girl_laughing.jpg')\n",
    "\n",
    "if img is None:\n",
    "    sys.exit('파일을 찾을 수 없습니다.')\n",
    "\n",
    "def draw(event,x,y,flags,param):  # 콜백 함수\n",
    "    if event==cv.EVENT_LBUTTONDOWN: # 마우스 왼쪽 버튼 클릭했을 때 직사각형\n",
    "        cv.rectangle(img,(x,y),(x+200,y+200),(0,0,255),2) \n",
    "    elif event==cv.EVENT_RBUTTONDOWN: # 마우스 오른쪽 버튼 클릭했을 때 원\n",
    "        cv.circle(img,(x,y),(x+100,y+100),(255,0,0),2)\n",
    "\n",
    "    cv.imshow(\"Drawing\",img)\n",
    "\n",
    "cv.namedWindow('Drawing')\n",
    "cv.imshow('Drawing',img)\n",
    "\n",
    "cv.setMouseCallback(\"Drawing\",draw) # Drawing 윈도우에 draw 콜백 함수 지정\n",
    "\n",
    "while(True): # 마우스 이벤트가 언제 발동할지 모르므로 무한반복\n",
    "    if cv.waitKey(1)==ord('q'):\n",
    "        cv.destroyAllWindows()\n",
    "        break"
   ]
  },
  {
   "cell_type": "code",
   "execution_count": null,
   "id": "09b94969",
   "metadata": {},
   "outputs": [],
   "source": []
  }
 ],
 "metadata": {
  "kernelspec": {
   "display_name": "cv",
   "language": "python",
   "name": "cv"
  },
  "language_info": {
   "codemirror_mode": {
    "name": "ipython",
    "version": 3
   },
   "file_extension": ".py",
   "mimetype": "text/x-python",
   "name": "python",
   "nbconvert_exporter": "python",
   "pygments_lexer": "ipython3",
   "version": "3.9.13"
  }
 },
 "nbformat": 4,
 "nbformat_minor": 5
}
