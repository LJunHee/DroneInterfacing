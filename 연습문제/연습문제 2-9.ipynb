{
 "cells": [
  {
   "cell_type": "code",
   "execution_count": 2,
   "id": "4e2bb38b",
   "metadata": {},
   "outputs": [
    {
     "name": "stdout",
     "output_type": "stream",
     "text": [
      "Requirement already satisfied: opencv-python in f:\\anaconda3\\lib\\site-packages (4.7.0.72)\n",
      "Requirement already satisfied: numpy>=1.17.0 in f:\\anaconda3\\lib\\site-packages (from opencv-python) (1.21.5)\n",
      "Note: you may need to restart the kernel to use updated packages.\n"
     ]
    }
   ],
   "source": [
    "pip install opencv-python"
   ]
  },
  {
   "cell_type": "code",
   "execution_count": null,
   "id": "9219fc85",
   "metadata": {},
   "outputs": [],
   "source": [
    "import cv2 as cv\n",
    "import sys\n",
    "\n",
    "img =cv.imread('soccer.jpg')\n",
    "\n",
    "if img is None:\n",
    "    sys.exit('파일을 찾을 수 없습니다.')\n",
    "\n",
    "BrushSize = 5 # 붓의 크기\n",
    "LColor, RColor = (255,0,0), (0,0,255) # 파란색과 빨간색\n",
    "def painting(event, x, y, flags, param):\n",
    "    if event == cv.EVENT_LBUTTONDOWN:\n",
    "        cv.circle(img, (x,y), BrushSize, LColor, -1) # 마우스 왼쪽 버튼 클릭시 파란색\n",
    "    elif event == cv.EVENT_RBUTTONDOWN:\n",
    "        cv.circle(img, (x,y), BrushSize, RColor, -1) # 마우스 오른쪽 버튼 클릭시 빨간색\n",
    "    elif event == cv.EVENT_MOUSEMOVE and flags == cv.EVENT_FLAG_LBUTTON:\n",
    "        cv.circle(img, (x,y), BrushSize, LColor, -1) # 왼쪽 버튼 클릭하고 이동하면 파란색\n",
    "    elif event == cv.EVENT_MOUSEMOVE and flags == cv.EVENT_FLAG_RBUTTON:\n",
    "        cv.circle(img, (x,y), BrushSize, RColor, -1) # 오른쪽 버튼 클릭하고 이동하면 빨간색\n",
    "  \n",
    "    cv.imshow('Painting', img) # 수정된 영상을 다시 그림\n",
    "\n",
    "cv.namedWindow('Painting')\n",
    "cv.imshow('Painting', img)\n",
    "\n",
    "cv.setMouseCallback('Painting', painting)\n",
    "\n",
    "while(True):\n",
    "    if cv.waitKey(1) == ord('q'):        \n",
    "        cv.destroyAllWindows()\n",
    "        break"
   ]
  },
  {
   "cell_type": "code",
   "execution_count": null,
   "id": "5f917936",
   "metadata": {},
   "outputs": [],
   "source": []
  }
 ],
 "metadata": {
  "kernelspec": {
   "display_name": "cv",
   "language": "python",
   "name": "cv"
  },
  "language_info": {
   "codemirror_mode": {
    "name": "ipython",
    "version": 3
   },
   "file_extension": ".py",
   "mimetype": "text/x-python",
   "name": "python",
   "nbconvert_exporter": "python",
   "pygments_lexer": "ipython3",
   "version": "3.9.13"
  }
 },
 "nbformat": 4,
 "nbformat_minor": 5
}
